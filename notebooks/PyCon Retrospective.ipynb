{
 "cells": [
  {
   "cell_type": "markdown",
   "metadata": {
    "nbpresent": {
     "id": "dc97827e-0d79-4aa5-a53f-50d19c3a8f3d"
    }
   },
   "source": [
    "# PyCon 2018"
   ]
  },
  {
   "cell_type": "markdown",
   "metadata": {
    "nbpresent": {
     "id": "52f9db3b-579c-4d23-bd9c-9fefad8a5ff7"
    }
   },
   "source": [
    "## Python By the Numbers\n",
    "\n",
    "* Survey from Python Software Foundation (PSF)\n",
    "* How is Python Being Used\n",
    "* Common Editors\n",
    "* Show Map of Targeted Audience\n",
    "\n",
    "## TODO: \n",
    "\n",
    "- Add images from Lindsey Brockman \n",
    "- Introduce PyCon\n",
    "- Have more slides about \"Why Python?\"\n",
    "- Show JSON from The Onco Tree\n",
    "- Compare with C# implementation of parsing that JSON\n",
    "\n",
    "\n",
    "\n",
    "![inclusive_badge](img/inclusive_badge.jpg)\n",
    "![Call your mom](img/call_your_mom.jpg)"
   ]
  },
  {
   "cell_type": "markdown",
   "metadata": {
    "nbpresent": {
     "id": "023d7d36-e690-4b21-9865-d96fb89d9824"
    }
   },
   "source": [
    "## By the Numbers\n",
    "![countries](img/country_profile.png)"
   ]
  },
  {
   "cell_type": "markdown",
   "metadata": {},
   "source": [
    "![types_of_python_dev](img/types_of_python_dev.png)"
   ]
  },
  {
   "cell_type": "markdown",
   "metadata": {},
   "source": [
    "![primary_usage](img/primary_python_usage.png)"
   ]
  },
  {
   "cell_type": "markdown",
   "metadata": {},
   "source": [
    "![types_of_python](img/types_of_python_combined.png)"
   ]
  },
  {
   "cell_type": "markdown",
   "metadata": {},
   "source": [
    "![frameworks](img/frameworks_and_tech.png)"
   ]
  },
  {
   "cell_type": "markdown",
   "metadata": {},
   "source": [
    "![experience_levels](img/experience_levels.png)"
   ]
  },
  {
   "cell_type": "markdown",
   "metadata": {},
   "source": [
    "![tools_and_features](img/tools_and_features.png)"
   ]
  },
  {
   "cell_type": "markdown",
   "metadata": {},
   "source": [
    "![editors_and_ide](img/editors_and_ide.png)"
   ]
  },
  {
   "cell_type": "markdown",
   "metadata": {},
   "source": [
    "![cloud_platforms](img/cloud_platforms.png)"
   ]
  },
  {
   "cell_type": "markdown",
   "metadata": {
    "nbpresent": {
     "id": "a6994072-1b28-4d89-a41a-56c7e585bd58"
    }
   },
   "source": [
    "* Talk about the diversity in the Conference\n",
    "  * Many female and non-white male presenters (attendance is still mostly white male)\n",
    "  * Pronoun Badges\n",
    "  * \"Call Your Mother\" Room on mother's day\n"
   ]
  },
  {
   "cell_type": "markdown",
   "metadata": {
    "nbpresent": {
     "id": "5645432e-82f0-409a-b680-ccb4e2a89e24"
    }
   },
   "source": [
    "# Why Python\n",
    "* Batteries Included\n",
    "* Simple Syntax\n",
    "* Live interpreter for exploration / testing of language features"
   ]
  },
  {
   "cell_type": "code",
   "execution_count": null,
   "metadata": {
    "nbpresent": {
     "id": "029b4180-da53-4bfc-b81f-c72d7f4050b1"
    }
   },
   "outputs": [],
   "source": []
  },
  {
   "cell_type": "code",
   "execution_count": null,
   "metadata": {
    "nbpresent": {
     "id": "efb0330e-7b65-40a9-b2f0-00ef652515a2"
    }
   },
   "outputs": [],
   "source": []
  },
  {
   "cell_type": "code",
   "execution_count": null,
   "metadata": {
    "nbpresent": {
     "id": "993a8c82-6f6c-4b21-b1da-74ec5395db69"
    }
   },
   "outputs": [],
   "source": []
  },
  {
   "cell_type": "markdown",
   "metadata": {},
   "source": [
    "# Trolling Leaf Chat Systems \n",
    "\n",
    "![Zulip Chat](img/zulipchat.png)\n",
    "\n",
    "https://pycon-sprints.zulipchat.com/"
   ]
  },
  {
   "cell_type": "markdown",
   "metadata": {},
   "source": [
    "# Interesting Talks\n",
    "\n",
    "![Street Fighter 2](img/street_fighter_2_ai.png)\n",
    "\n",
    "https://www.youtube.com/watch?v=NyNUYYI-Pdg&t=1236s"
   ]
  },
  {
   "cell_type": "markdown",
   "metadata": {},
   "source": [
    "![Coding Through Adversity](img/coding_through_adversity.png)\n",
    "\n",
    "[The Last Mile](https://thelastmile.org/)\n",
    "\n",
    "https://www.youtube.com/watch?v=dGz-K8x8k5k"
   ]
  },
  {
   "cell_type": "code",
   "execution_count": 1,
   "metadata": {},
   "outputs": [
    {
     "data": {
      "text/html": [
       "\n",
       "        <iframe\n",
       "            width=\"700\"\n",
       "            height=\"350\"\n",
       "            src=\"https://www.youtube.com/embed/iQI56-up3Yk?start=805\"\n",
       "            frameborder=\"0\"\n",
       "            allowfullscreen\n",
       "        ></iframe>\n",
       "        "
      ],
      "text/plain": [
       "<IPython.lib.display.IFrame at 0x10887f898>"
      ]
     },
     "execution_count": 1,
     "metadata": {},
     "output_type": "execute_result"
    }
   ],
   "source": [
    "from IPython.display import IFrame\n",
    "IFrame('https://www.youtube.com/embed/iQI56-up3Yk?start=805', width=700, height=350)"
   ]
  },
  {
   "cell_type": "markdown",
   "metadata": {},
   "source": [
    "https://youtu.be/iQI56-up3Yk?t=13m24s"
   ]
  },
  {
   "cell_type": "markdown",
   "metadata": {
    "nbpresent": {
     "id": "f3727ee9-124b-49ba-b6b8-45b7484d8803"
    }
   },
   "source": [
    "# Jupyter Notebooks\n",
    "* Started as IPython\n",
    "  * Kernel supports alternative interpreted languages\n",
    "* https://github.com/jupyter/jupyter/wiki/Jupyter-kernels"
   ]
  },
  {
   "cell_type": "code",
   "execution_count": 2,
   "metadata": {
    "nbpresent": {
     "id": "e8522963-eeb3-4424-bff1-7ebbcfdbafdd"
    }
   },
   "outputs": [],
   "source": [
    "import csv\n",
    "responses = []\n",
    "with open('pythondevsurvey2017_raw_data.csv') as f:\n",
    "    reader = csv.reader(f, delimiter=',', quotechar='\"')\n",
    "    headers = reader.__next__()\n",
    "    for row in reader:\n",
    "        row_dict = {key: value for key, value in list(zip(headers, row))}\n",
    "        responses.append(row_dict)"
   ]
  },
  {
   "cell_type": "code",
   "execution_count": 6,
   "metadata": {
    "nbpresent": {
     "id": "c1b7851a-36c7-49eb-a96d-81e6a097f0f6"
    }
   },
   "outputs": [
    {
     "data": {
      "text/plain": [
       "['Is Python the main language you use for your current projects?',\n",
       " 'None:What other language(s) do you use?',\n",
       " 'Java:What other language(s) do you use?',\n",
       " 'JavaScript:What other language(s) do you use?',\n",
       " 'C/C++:What other language(s) do you use?',\n",
       " 'PHP:What other language(s) do you use?',\n",
       " 'C#:What other language(s) do you use?',\n",
       " 'Ruby:What other language(s) do you use?',\n",
       " 'Bash / Shell:What other language(s) do you use?',\n",
       " 'Objective-C:What other language(s) do you use?',\n",
       " 'Go:What other language(s) do you use?',\n",
       " 'Visual Basic:What other language(s) do you use?',\n",
       " 'Scala:What other language(s) do you use?',\n",
       " 'SQL:What other language(s) do you use?',\n",
       " 'Kotlin:What other language(s) do you use?',\n",
       " 'R:What other language(s) do you use?',\n",
       " 'Swift:What other language(s) do you use?',\n",
       " 'Clojure:What other language(s) do you use?',\n",
       " 'Perl:What other language(s) do you use?',\n",
       " 'Rust:What other language(s) do you use?',\n",
       " 'Groovy:What other language(s) do you use?',\n",
       " 'TypeScript:What other language(s) do you use?',\n",
       " 'CoffeeScript:What other language(s) do you use?',\n",
       " 'HTML/CSS:What other language(s) do you use?',\n",
       " 'Other - Write In::What other language(s) do you use?',\n",
       " 'Educational purposes:\\xa0What do you use Python for?',\n",
       " 'Data analysis:\\xa0What do you use Python for?',\n",
       " 'DevOps / System administration / Writing automation scripts:\\xa0What do you use Python for?',\n",
       " 'Software testing / Writing automated tests:\\xa0What do you use Python for?',\n",
       " 'Software prototyping:\\xa0What do you use Python for?',\n",
       " 'Web development:\\xa0What do you use Python for?',\n",
       " 'Machine learning:\\xa0What do you use Python for?',\n",
       " 'Mobile development:\\xa0What do you use Python for?',\n",
       " 'Desktop development:\\xa0What do you use Python for?',\n",
       " 'Computer graphics:\\xa0What do you use Python for?',\n",
       " 'Network programming:\\xa0What do you use Python for?',\n",
       " 'Game development:\\xa0What do you use Python for?',\n",
       " 'Multimedia applications development:\\xa0What do you use Python for?',\n",
       " 'Embedded development:\\xa0What do you use Python for?',\n",
       " 'Programming of web parsers / scrapers / crawlers:\\xa0What do you use Python for?',\n",
       " 'Other - Write In::\\xa0What do you use Python for?',\n",
       " 'What do you use Python for the most?',\n",
       " 'Which version of Python do you use the most?',\n",
       " 'Installer from python.org:What do you typically use to upgrade your Python version?',\n",
       " 'Build from source:What do you typically use to upgrade your Python version?',\n",
       " 'Automatic upgrade via cloud provider:What do you typically use to upgrade your Python version?',\n",
       " 'Enthought:What do you typically use to upgrade your Python version?',\n",
       " 'Anaconda:What do you typically use to upgrade your Python version?',\n",
       " 'ActivePython:What do you typically use to upgrade your Python version?',\n",
       " 'Intel Distribution for Python:What do you typically use to upgrade your Python version?',\n",
       " 'OS-provided Python (via apt-get, yum, homebrew, etc.):What do you typically use to upgrade your Python version?',\n",
       " 'pyenv:What do you typically use to upgrade your Python version?',\n",
       " 'pythonz:What do you typically use to upgrade your Python version?',\n",
       " 'Other - Write In::What do you typically use to upgrade your Python version?',\n",
       " 'None:What framework(s) do you use in addition to Python?',\n",
       " 'Django:What framework(s) do you use in addition to Python?',\n",
       " 'Flask:What framework(s) do you use in addition to Python?',\n",
       " 'Tornado:What framework(s) do you use in addition to Python?',\n",
       " 'Bottle:What framework(s) do you use in addition to Python?',\n",
       " 'web2py:What framework(s) do you use in addition to Python?',\n",
       " 'NumPy / pandas / Matplotlib / scipy and similar:What framework(s) do you use in addition to Python?',\n",
       " 'Keras / Theano / TensorFlow / scikit-learn and similar:What framework(s) do you use in addition to Python?',\n",
       " 'Pillow:What framework(s) do you use in addition to Python?',\n",
       " 'PyQT / PyGTK / wxPython:What framework(s) do you use in addition to Python?',\n",
       " 'TkInter:What framework(s) do you use in addition to Python?',\n",
       " 'Pygame:What framework(s) do you use in addition to Python?',\n",
       " 'CherryPy:What framework(s) do you use in addition to Python?',\n",
       " 'Twisted:What framework(s) do you use in addition to Python?',\n",
       " 'Pyramid:What framework(s) do you use in addition to Python?',\n",
       " 'Requests:What framework(s) do you use in addition to Python?',\n",
       " 'asyncio:What framework(s) do you use in addition to Python?',\n",
       " 'Kivy:What framework(s) do you use in addition to Python?',\n",
       " 'six:What framework(s) do you use in addition to Python?',\n",
       " 'aiohttp:What framework(s) do you use in addition to Python?',\n",
       " 'Other - Write In::What framework(s) do you use in addition to Python?',\n",
       " 'None:What additional technology(s) do you use in addition to Python?',\n",
       " 'Jupyter Notebook:What additional technology(s) do you use in addition to Python?',\n",
       " 'Anaconda:What additional technology(s) do you use in addition to Python?',\n",
       " 'ORM (SQLAlchemy, PonyORM, etc.):What additional technology(s) do you use in addition to Python?',\n",
       " 'Docker:What additional technology(s) do you use in addition to Python?',\n",
       " 'Vagrant:What additional technology(s) do you use in addition to Python?',\n",
       " 'Cloud platforms (Google App Engine, AWS, RackSpace, Heroku and similar):What additional technology(s) do you use in addition to Python?',\n",
       " 'Hadoop, Spark, etc.:What additional technology(s) do you use in addition to Python?',\n",
       " 'Sphinx:What additional technology(s) do you use in addition to Python?',\n",
       " 'Buildout:What additional technology(s) do you use in addition to Python?',\n",
       " 'DevOps tools (Ansible, Chef, Puppet, etc.):What additional technology(s) do you use in addition to Python?',\n",
       " 'redis:What additional technology(s) do you use in addition to Python?',\n",
       " 'Other - Write In::What additional technology(s) do you use in addition to Python?',\n",
       " 'Google App Engine:What cloud platform(s) do you use?',\n",
       " 'AWS:What cloud platform(s) do you use?',\n",
       " 'Microsoft Azure:What cloud platform(s) do you use?',\n",
       " 'RackSpace:What cloud platform(s) do you use?',\n",
       " 'Heroku:What cloud platform(s) do you use?',\n",
       " 'DigitalOcean:What cloud platform(s) do you use?',\n",
       " 'Other - Write In::What cloud platform(s) do you use?',\n",
       " 'PyCharm Professional Edition:What editor(s)/IDE(s) have you considered for use in your Python development?',\n",
       " 'PyCharm Community Edition:What editor(s)/IDE(s) have you considered for use in your Python development?',\n",
       " 'Sublime Text:What editor(s)/IDE(s) have you considered for use in your Python development?',\n",
       " 'Vim:What editor(s)/IDE(s) have you considered for use in your Python development?',\n",
       " 'Atom:What editor(s)/IDE(s) have you considered for use in your Python development?',\n",
       " 'VS Code:What editor(s)/IDE(s) have you considered for use in your Python development?',\n",
       " 'Eclipse + Pydev:What editor(s)/IDE(s) have you considered for use in your Python development?',\n",
       " 'Aptana:What editor(s)/IDE(s) have you considered for use in your Python development?',\n",
       " 'Jupyter Notebook:What editor(s)/IDE(s) have you considered for use in your Python development?',\n",
       " 'IntelliJ IDEA:What editor(s)/IDE(s) have you considered for use in your Python development?',\n",
       " 'NotePad++:What editor(s)/IDE(s) have you considered for use in your Python development?',\n",
       " 'IDLE:What editor(s)/IDE(s) have you considered for use in your Python development?',\n",
       " 'Emacs:What editor(s)/IDE(s) have you considered for use in your Python development?',\n",
       " 'Python Tools for Visual Studio (PTVS):What editor(s)/IDE(s) have you considered for use in your Python development?',\n",
       " 'NetBeans:What editor(s)/IDE(s) have you considered for use in your Python development?',\n",
       " 'Spyder:What editor(s)/IDE(s) have you considered for use in your Python development?',\n",
       " 'Rodeo:What editor(s)/IDE(s) have you considered for use in your Python development?',\n",
       " 'Gedit:What editor(s)/IDE(s) have you considered for use in your Python development?',\n",
       " 'Ninja-IDE:What editor(s)/IDE(s) have you considered for use in your Python development?',\n",
       " 'Komodo Editor:What editor(s)/IDE(s) have you considered for use in your Python development?',\n",
       " 'Komodo IDE:What editor(s)/IDE(s) have you considered for use in your Python development?',\n",
       " 'Wing IDE:What editor(s)/IDE(s) have you considered for use in your Python development?',\n",
       " 'TextMate:What editor(s)/IDE(s) have you considered for use in your Python development?',\n",
       " 'Other - Write In::What editor(s)/IDE(s) have you considered for use in your Python development?',\n",
       " 'What is the main editor you use for your current Python development?',\n",
       " 'use autocompletion  in your editor:When developing in Python, how often do you…?',\n",
       " 'use the debugger:When developing in Python, how often do you…?',\n",
       " 'refactor your code:When developing in Python, how often do you…?',\n",
       " 'use VCS:When developing in Python, how often do you…?',\n",
       " 'use code linting (programs that analyze code for potential errors):When developing in Python, how often do you…?',\n",
       " 'use Python virtual environments for your projects:When developing in Python, how often do you…?',\n",
       " 'use SQL databases :When developing in Python, how often do you…?',\n",
       " 'use NoSQL databases:When developing in Python, how often do you…?',\n",
       " 'run / debug or edit code on remote machines (remote hosts, VMs, etc.):When developing in Python, how often do you…?',\n",
       " 'use a Python profiler:When developing in Python, how often do you…?',\n",
       " 'write tests for your code:When developing in Python, how often do you…?',\n",
       " 'use code coverage:When developing in Python, how often do you…?',\n",
       " 'use optional type hinting:When developing in Python, how often do you…?',\n",
       " 'use Continuous Integration tools:When developing in Python, how often do you…?',\n",
       " 'use Issue Trackers:When developing in Python, how often do you…?',\n",
       " 'Do you\\xa0regularly work on multiple projects at the same time?',\n",
       " 'How did you first learn about your main editor?',\n",
       " 'How often do you use your main editor?',\n",
       " 'Are you missing any features in your main editor?',\n",
       " 'How likely is it that you would recommend your main editor to a friend or colleague?',\n",
       " 'What do you think is the ratio of these two numbers?:Please think about the total number of Python Web Developers in the world and the total number of Data Scientists using Python.',\n",
       " 'What do you think would be the most popular opinion?:Please think about the total number of Python Web Developers in the world and the total number of Data Scientists using Python.',\n",
       " 'Most of the time, do you...?',\n",
       " 'How many people are in your project team?',\n",
       " 'What is your employment status?',\n",
       " \"Choose one from the list::Which of the following industries best describes your company's business?\",\n",
       " 'Choose one from the list::Which of the following industries do you develop for?',\n",
       " 'How long have you been working in the IT industry?',\n",
       " 'DBA:Which of the following best describes your job role(s)?',\n",
       " 'Architect:Which of the following best describes your job role(s)?',\n",
       " 'QA engineer:Which of the following best describes your job role(s)?',\n",
       " 'Developer / Programmer:Which of the following best describes your job role(s)?',\n",
       " 'Technical support:Which of the following best describes your job role(s)?',\n",
       " 'Data analyst:Which of the following best describes your job role(s)?',\n",
       " 'Business analyst:Which of the following best describes your job role(s)?',\n",
       " 'Team lead:Which of the following best describes your job role(s)?',\n",
       " 'Product manager:Which of the following best describes your job role(s)?',\n",
       " 'CIO / CEO / CTO:Which of the following best describes your job role(s)?',\n",
       " 'Systems analyst:Which of the following best describes your job role(s)?',\n",
       " 'Other - Write In::Which of the following best describes your job role(s)?',\n",
       " 'Could you tell us your age range?',\n",
       " 'What country do you live in?']"
      ]
     },
     "execution_count": 6,
     "metadata": {},
     "output_type": "execute_result"
    }
   ],
   "source": [
    "headers"
   ]
  },
  {
   "cell_type": "code",
   "execution_count": 7,
   "metadata": {
    "nbpresent": {
     "id": "f861bbc0-9a7f-4279-9626-03104c27fb37"
    }
   },
   "outputs": [
    {
     "data": {
      "text/plain": [
       "['No, I don’t use Python for my current projects',\n",
       " 'NA',\n",
       " 'NA',\n",
       " 'NA',\n",
       " 'NA',\n",
       " 'NA',\n",
       " 'NA',\n",
       " 'NA',\n",
       " 'NA',\n",
       " 'NA',\n",
       " 'NA',\n",
       " 'NA',\n",
       " 'NA',\n",
       " 'NA',\n",
       " 'NA',\n",
       " 'NA',\n",
       " 'NA',\n",
       " 'NA',\n",
       " 'NA',\n",
       " 'NA',\n",
       " 'NA',\n",
       " 'NA',\n",
       " 'NA',\n",
       " 'NA',\n",
       " 'Other - Write In:',\n",
       " 'NA',\n",
       " 'NA',\n",
       " 'NA',\n",
       " 'NA',\n",
       " 'NA',\n",
       " 'NA',\n",
       " 'NA',\n",
       " 'NA',\n",
       " 'NA',\n",
       " 'NA',\n",
       " 'NA',\n",
       " 'NA',\n",
       " 'NA',\n",
       " 'NA',\n",
       " 'NA',\n",
       " 'NA',\n",
       " 'NA',\n",
       " 'NA',\n",
       " 'NA',\n",
       " 'NA',\n",
       " 'NA',\n",
       " 'NA',\n",
       " 'NA',\n",
       " 'NA',\n",
       " 'NA',\n",
       " 'NA',\n",
       " 'NA',\n",
       " 'NA',\n",
       " 'NA',\n",
       " 'NA',\n",
       " 'NA',\n",
       " 'NA',\n",
       " 'NA',\n",
       " 'NA',\n",
       " 'NA',\n",
       " 'NA',\n",
       " 'NA',\n",
       " 'NA',\n",
       " 'NA',\n",
       " 'NA',\n",
       " 'NA',\n",
       " 'NA',\n",
       " 'NA',\n",
       " 'NA',\n",
       " 'NA',\n",
       " 'NA',\n",
       " 'NA',\n",
       " 'NA',\n",
       " 'NA',\n",
       " 'NA',\n",
       " 'NA',\n",
       " 'NA',\n",
       " 'NA',\n",
       " 'NA',\n",
       " 'NA',\n",
       " 'NA',\n",
       " 'NA',\n",
       " 'NA',\n",
       " 'NA',\n",
       " 'NA',\n",
       " 'NA',\n",
       " 'NA',\n",
       " 'NA',\n",
       " 'NA',\n",
       " 'NA',\n",
       " 'NA',\n",
       " 'NA',\n",
       " 'NA',\n",
       " 'NA',\n",
       " 'NA',\n",
       " 'NA',\n",
       " 'NA',\n",
       " 'NA',\n",
       " 'NA',\n",
       " 'NA',\n",
       " 'NA',\n",
       " 'NA',\n",
       " 'NA',\n",
       " 'NA',\n",
       " 'NA',\n",
       " 'NA',\n",
       " 'NA',\n",
       " 'NA',\n",
       " 'NA',\n",
       " 'NA',\n",
       " 'NA',\n",
       " 'NA',\n",
       " 'NA',\n",
       " 'NA',\n",
       " 'NA',\n",
       " 'NA',\n",
       " 'NA',\n",
       " 'NA',\n",
       " 'NA',\n",
       " 'NA',\n",
       " 'NA',\n",
       " 'NA',\n",
       " 'NA',\n",
       " 'NA',\n",
       " 'NA',\n",
       " 'NA',\n",
       " 'NA',\n",
       " 'NA',\n",
       " 'NA',\n",
       " 'NA',\n",
       " 'NA',\n",
       " 'NA',\n",
       " 'NA',\n",
       " 'NA',\n",
       " 'NA',\n",
       " 'NA',\n",
       " 'NA',\n",
       " 'NA',\n",
       " 'NA',\n",
       " 'NA',\n",
       " 'NA',\n",
       " 'NA',\n",
       " 'Work in a team',\n",
       " '2-7 people',\n",
       " 'Fully employed by a company / organization',\n",
       " 'Manufacturing',\n",
       " 'NA',\n",
       " '3 - 5 years',\n",
       " 'NA',\n",
       " 'NA',\n",
       " 'NA',\n",
       " 'Developer / Programmer',\n",
       " 'NA',\n",
       " 'NA',\n",
       " 'NA',\n",
       " 'NA',\n",
       " 'NA',\n",
       " 'NA',\n",
       " 'NA',\n",
       " 'NA',\n",
       " '30-39',\n",
       " 'United States']"
      ]
     },
     "execution_count": 7,
     "metadata": {},
     "output_type": "execute_result"
    }
   ],
   "source": [
    "row"
   ]
  },
  {
   "cell_type": "code",
   "execution_count": 8,
   "metadata": {
    "nbpresent": {
     "id": "4a0c86f7-e31f-4f2b-95d1-24251237053c"
    }
   },
   "outputs": [
    {
     "data": {
      "text/plain": [
       "<zip at 0x1124a2608>"
      ]
     },
     "execution_count": 8,
     "metadata": {},
     "output_type": "execute_result"
    }
   ],
   "source": [
    "zip(headers, row)"
   ]
  },
  {
   "cell_type": "code",
   "execution_count": 10,
   "metadata": {
    "nbpresent": {
     "id": "806460e4-ee7d-4adc-bd12-a7528de797a3"
    }
   },
   "outputs": [
    {
     "data": {
      "text/plain": [
       "[{'Is Python the main language you use for your current projects?': 'Yes',\n",
       "  'None:What other language(s) do you use?': 'NA',\n",
       "  'Java:What other language(s) do you use?': 'NA',\n",
       "  'JavaScript:What other language(s) do you use?': 'JavaScript',\n",
       "  'C/C++:What other language(s) do you use?': 'NA',\n",
       "  'PHP:What other language(s) do you use?': 'PHP',\n",
       "  'C#:What other language(s) do you use?': 'NA',\n",
       "  'Ruby:What other language(s) do you use?': 'NA',\n",
       "  'Bash / Shell:What other language(s) do you use?': 'Bash / Shell',\n",
       "  'Objective-C:What other language(s) do you use?': 'NA',\n",
       "  'Go:What other language(s) do you use?': 'NA',\n",
       "  'Visual Basic:What other language(s) do you use?': 'NA',\n",
       "  'Scala:What other language(s) do you use?': 'NA',\n",
       "  'SQL:What other language(s) do you use?': 'NA',\n",
       "  'Kotlin:What other language(s) do you use?': 'NA',\n",
       "  'R:What other language(s) do you use?': 'NA',\n",
       "  'Swift:What other language(s) do you use?': 'NA',\n",
       "  'Clojure:What other language(s) do you use?': 'NA',\n",
       "  'Perl:What other language(s) do you use?': 'NA',\n",
       "  'Rust:What other language(s) do you use?': 'NA',\n",
       "  'Groovy:What other language(s) do you use?': 'NA',\n",
       "  'TypeScript:What other language(s) do you use?': 'NA',\n",
       "  'CoffeeScript:What other language(s) do you use?': 'NA',\n",
       "  'HTML/CSS:What other language(s) do you use?': 'HTML/CSS',\n",
       "  'Other - Write In::What other language(s) do you use?': 'NA',\n",
       "  'Educational purposes:\\xa0What do you use Python for?': 'Educational purposes',\n",
       "  'Data analysis:\\xa0What do you use Python for?': 'Data analysis',\n",
       "  'DevOps / System administration / Writing automation scripts:\\xa0What do you use Python for?': 'DevOps / System administration / Writing automation scripts',\n",
       "  'Software testing / Writing automated tests:\\xa0What do you use Python for?': 'NA',\n",
       "  'Software prototyping:\\xa0What do you use Python for?': 'NA',\n",
       "  'Web development:\\xa0What do you use Python for?': 'NA',\n",
       "  'Machine learning:\\xa0What do you use Python for?': 'NA',\n",
       "  'Mobile development:\\xa0What do you use Python for?': 'NA',\n",
       "  'Desktop development:\\xa0What do you use Python for?': 'NA',\n",
       "  'Computer graphics:\\xa0What do you use Python for?': 'NA',\n",
       "  'Network programming:\\xa0What do you use Python for?': 'NA',\n",
       "  'Game development:\\xa0What do you use Python for?': 'NA',\n",
       "  'Multimedia applications development:\\xa0What do you use Python for?': 'NA',\n",
       "  'Embedded development:\\xa0What do you use Python for?': 'NA',\n",
       "  'Programming of web parsers / scrapers / crawlers:\\xa0What do you use Python for?': 'Programming of web parsers / scrapers / crawlers',\n",
       "  'Other - Write In::\\xa0What do you use Python for?': 'NA',\n",
       "  'What do you use Python for the most?': 'DevOps / System administration / Writing automation scripts',\n",
       "  'Which version of Python do you use the most?': 'Python 3',\n",
       "  'Installer from python.org:What do you typically use to upgrade your Python version?': 'NA',\n",
       "  'Build from source:What do you typically use to upgrade your Python version?': 'NA',\n",
       "  'Automatic upgrade via cloud provider:What do you typically use to upgrade your Python version?': 'NA',\n",
       "  'Enthought:What do you typically use to upgrade your Python version?': 'NA',\n",
       "  'Anaconda:What do you typically use to upgrade your Python version?': 'NA',\n",
       "  'ActivePython:What do you typically use to upgrade your Python version?': 'NA',\n",
       "  'Intel Distribution for Python:What do you typically use to upgrade your Python version?': 'NA',\n",
       "  'OS-provided Python (via apt-get, yum, homebrew, etc.):What do you typically use to upgrade your Python version?': 'NA',\n",
       "  'pyenv:What do you typically use to upgrade your Python version?': 'NA',\n",
       "  'pythonz:What do you typically use to upgrade your Python version?': 'NA',\n",
       "  'Other - Write In::What do you typically use to upgrade your Python version?': 'NA',\n",
       "  'None:What framework(s) do you use in addition to Python?': 'None',\n",
       "  'Django:What framework(s) do you use in addition to Python?': 'NA',\n",
       "  'Flask:What framework(s) do you use in addition to Python?': 'NA',\n",
       "  'Tornado:What framework(s) do you use in addition to Python?': 'NA',\n",
       "  'Bottle:What framework(s) do you use in addition to Python?': 'NA',\n",
       "  'web2py:What framework(s) do you use in addition to Python?': 'NA',\n",
       "  'NumPy / pandas / Matplotlib / scipy and similar:What framework(s) do you use in addition to Python?': 'NA',\n",
       "  'Keras / Theano / TensorFlow / scikit-learn and similar:What framework(s) do you use in addition to Python?': 'NA',\n",
       "  'Pillow:What framework(s) do you use in addition to Python?': 'NA',\n",
       "  'PyQT / PyGTK / wxPython:What framework(s) do you use in addition to Python?': 'NA',\n",
       "  'TkInter:What framework(s) do you use in addition to Python?': 'NA',\n",
       "  'Pygame:What framework(s) do you use in addition to Python?': 'NA',\n",
       "  'CherryPy:What framework(s) do you use in addition to Python?': 'NA',\n",
       "  'Twisted:What framework(s) do you use in addition to Python?': 'NA',\n",
       "  'Pyramid:What framework(s) do you use in addition to Python?': 'NA',\n",
       "  'Requests:What framework(s) do you use in addition to Python?': 'NA',\n",
       "  'asyncio:What framework(s) do you use in addition to Python?': 'NA',\n",
       "  'Kivy:What framework(s) do you use in addition to Python?': 'NA',\n",
       "  'six:What framework(s) do you use in addition to Python?': 'NA',\n",
       "  'aiohttp:What framework(s) do you use in addition to Python?': 'NA',\n",
       "  'Other - Write In::What framework(s) do you use in addition to Python?': 'NA',\n",
       "  'None:What additional technology(s) do you use in addition to Python?': 'None',\n",
       "  'Jupyter Notebook:What additional technology(s) do you use in addition to Python?': 'NA',\n",
       "  'Anaconda:What additional technology(s) do you use in addition to Python?': 'NA',\n",
       "  'ORM (SQLAlchemy, PonyORM, etc.):What additional technology(s) do you use in addition to Python?': 'NA',\n",
       "  'Docker:What additional technology(s) do you use in addition to Python?': 'NA',\n",
       "  'Vagrant:What additional technology(s) do you use in addition to Python?': 'NA',\n",
       "  'Cloud platforms (Google App Engine, AWS, RackSpace, Heroku and similar):What additional technology(s) do you use in addition to Python?': 'NA',\n",
       "  'Hadoop, Spark, etc.:What additional technology(s) do you use in addition to Python?': 'NA',\n",
       "  'Sphinx:What additional technology(s) do you use in addition to Python?': 'NA',\n",
       "  'Buildout:What additional technology(s) do you use in addition to Python?': 'NA',\n",
       "  'DevOps tools (Ansible, Chef, Puppet, etc.):What additional technology(s) do you use in addition to Python?': 'NA',\n",
       "  'redis:What additional technology(s) do you use in addition to Python?': 'NA',\n",
       "  'Other - Write In::What additional technology(s) do you use in addition to Python?': 'NA',\n",
       "  'Google App Engine:What cloud platform(s) do you use?': 'NA',\n",
       "  'AWS:What cloud platform(s) do you use?': 'NA',\n",
       "  'Microsoft Azure:What cloud platform(s) do you use?': 'NA',\n",
       "  'RackSpace:What cloud platform(s) do you use?': 'NA',\n",
       "  'Heroku:What cloud platform(s) do you use?': 'NA',\n",
       "  'DigitalOcean:What cloud platform(s) do you use?': 'NA',\n",
       "  'Other - Write In::What cloud platform(s) do you use?': 'NA',\n",
       "  'PyCharm Professional Edition:What editor(s)/IDE(s) have you considered for use in your Python development?': 'NA',\n",
       "  'PyCharm Community Edition:What editor(s)/IDE(s) have you considered for use in your Python development?': 'NA',\n",
       "  'Sublime Text:What editor(s)/IDE(s) have you considered for use in your Python development?': 'NA',\n",
       "  'Vim:What editor(s)/IDE(s) have you considered for use in your Python development?': 'Vim',\n",
       "  'Atom:What editor(s)/IDE(s) have you considered for use in your Python development?': 'NA',\n",
       "  'VS Code:What editor(s)/IDE(s) have you considered for use in your Python development?': 'NA',\n",
       "  'Eclipse + Pydev:What editor(s)/IDE(s) have you considered for use in your Python development?': 'NA',\n",
       "  'Aptana:What editor(s)/IDE(s) have you considered for use in your Python development?': 'NA',\n",
       "  'Jupyter Notebook:What editor(s)/IDE(s) have you considered for use in your Python development?': 'NA',\n",
       "  'IntelliJ IDEA:What editor(s)/IDE(s) have you considered for use in your Python development?': 'NA',\n",
       "  'NotePad++:What editor(s)/IDE(s) have you considered for use in your Python development?': 'NA',\n",
       "  'IDLE:What editor(s)/IDE(s) have you considered for use in your Python development?': 'IDLE',\n",
       "  'Emacs:What editor(s)/IDE(s) have you considered for use in your Python development?': 'NA',\n",
       "  'Python Tools for Visual Studio (PTVS):What editor(s)/IDE(s) have you considered for use in your Python development?': 'NA',\n",
       "  'NetBeans:What editor(s)/IDE(s) have you considered for use in your Python development?': 'NA',\n",
       "  'Spyder:What editor(s)/IDE(s) have you considered for use in your Python development?': 'NA',\n",
       "  'Rodeo:What editor(s)/IDE(s) have you considered for use in your Python development?': 'NA',\n",
       "  'Gedit:What editor(s)/IDE(s) have you considered for use in your Python development?': 'NA',\n",
       "  'Ninja-IDE:What editor(s)/IDE(s) have you considered for use in your Python development?': 'NA',\n",
       "  'Komodo Editor:What editor(s)/IDE(s) have you considered for use in your Python development?': 'NA',\n",
       "  'Komodo IDE:What editor(s)/IDE(s) have you considered for use in your Python development?': 'NA',\n",
       "  'Wing IDE:What editor(s)/IDE(s) have you considered for use in your Python development?': 'NA',\n",
       "  'TextMate:What editor(s)/IDE(s) have you considered for use in your Python development?': 'NA',\n",
       "  'Other - Write In::What editor(s)/IDE(s) have you considered for use in your Python development?': 'Other - Write In:',\n",
       "  'What is the main editor you use for your current Python development?': 'Vim',\n",
       "  'use autocompletion  in your editor:When developing in Python, how often do you…?': 'Never or Almost never',\n",
       "  'use the debugger:When developing in Python, how often do you…?': 'From time to time',\n",
       "  'refactor your code:When developing in Python, how often do you…?': 'Never or Almost never',\n",
       "  'use VCS:When developing in Python, how often do you…?': 'Never or Almost never',\n",
       "  'use code linting (programs that analyze code for potential errors):When developing in Python, how often do you…?': 'Never or Almost never',\n",
       "  'use Python virtual environments for your projects:When developing in Python, how often do you…?': 'From time to time',\n",
       "  'use SQL databases :When developing in Python, how often do you…?': 'Never or Almost never',\n",
       "  'use NoSQL databases:When developing in Python, how often do you…?': 'From time to time',\n",
       "  'run / debug or edit code on remote machines (remote hosts, VMs, etc.):When developing in Python, how often do you…?': 'Often',\n",
       "  'use a Python profiler:When developing in Python, how often do you…?': 'Never or Almost never',\n",
       "  'write tests for your code:When developing in Python, how often do you…?': 'From time to time',\n",
       "  'use code coverage:When developing in Python, how often do you…?': 'Never or Almost never',\n",
       "  'use optional type hinting:When developing in Python, how often do you…?': 'Never or Almost never',\n",
       "  'use Continuous Integration tools:When developing in Python, how often do you…?': 'Never or Almost never',\n",
       "  'use Issue Trackers:When developing in Python, how often do you…?': 'Never or Almost never',\n",
       "  'Do you\\xa0regularly work on multiple projects at the same time?': 'Yes, I work on many different projects',\n",
       "  'How did you first learn about your main editor?': 'Friend / Colleague',\n",
       "  'How often do you use your main editor?': 'Daily',\n",
       "  'Are you missing any features in your main editor?': 'Yes',\n",
       "  'How likely is it that you would recommend your main editor to a friend or colleague?': '6',\n",
       "  'What do you think is the ratio of these two numbers?:Please think about the total number of Python Web Developers in the world and the total number of Data Scientists using Python.': '2:1',\n",
       "  'What do you think would be the most popular opinion?:Please think about the total number of Python Web Developers in the world and the total number of Data Scientists using Python.': '2:1',\n",
       "  'Most of the time, do you...?': 'Work in a team',\n",
       "  'How many people are in your project team?': '2-7 people',\n",
       "  'What is your employment status?': 'Fully employed by a company / organization',\n",
       "  \"Choose one from the list::Which of the following industries best describes your company's business?\": 'Education / Training',\n",
       "  'Choose one from the list::Which of the following industries do you develop for?': 'NA',\n",
       "  'How long have you been working in the IT industry?': 'Less than 1 year',\n",
       "  'DBA:Which of the following best describes your job role(s)?': 'NA',\n",
       "  'Architect:Which of the following best describes your job role(s)?': 'NA',\n",
       "  'QA engineer:Which of the following best describes your job role(s)?': 'NA',\n",
       "  'Developer / Programmer:Which of the following best describes your job role(s)?': 'Developer / Programmer',\n",
       "  'Technical support:Which of the following best describes your job role(s)?': 'NA',\n",
       "  'Data analyst:Which of the following best describes your job role(s)?': 'NA',\n",
       "  'Business analyst:Which of the following best describes your job role(s)?': 'NA',\n",
       "  'Team lead:Which of the following best describes your job role(s)?': 'NA',\n",
       "  'Product manager:Which of the following best describes your job role(s)?': 'NA',\n",
       "  'CIO / CEO / CTO:Which of the following best describes your job role(s)?': 'NA',\n",
       "  'Systems analyst:Which of the following best describes your job role(s)?': 'NA',\n",
       "  'Other - Write In::Which of the following best describes your job role(s)?': 'NA',\n",
       "  'Could you tell us your age range?': '60 or older',\n",
       "  'What country do you live in?': 'Italy'}]"
      ]
     },
     "execution_count": 10,
     "metadata": {},
     "output_type": "execute_result"
    }
   ],
   "source": [
    "responses[:1]"
   ]
  },
  {
   "cell_type": "code",
   "execution_count": null,
   "metadata": {
    "nbpresent": {
     "id": "2144e32a-af67-4236-8fce-95333b129f61"
    }
   },
   "outputs": [],
   "source": []
  }
 ],
 "metadata": {
  "kernelspec": {
   "display_name": "Python 3",
   "language": "python",
   "name": "python3"
  },
  "language_info": {
   "codemirror_mode": {
    "name": "ipython",
    "version": 3
   },
   "file_extension": ".py",
   "mimetype": "text/x-python",
   "name": "python",
   "nbconvert_exporter": "python",
   "pygments_lexer": "ipython3",
   "version": "3.6.5"
  }
 },
 "nbformat": 4,
 "nbformat_minor": 2
}
